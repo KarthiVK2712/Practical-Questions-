{
 "cells": [
  {
   "cell_type": "code",
   "execution_count": 1,
   "id": "f6230cbf",
   "metadata": {},
   "outputs": [
    {
     "name": "stdout",
     "output_type": "stream",
     "text": [
      "Shortest Path Found:\n",
      "[(0, 0), (1, 0), (2, 0), (3, 0), (4, 0), (4, 1), (4, 2), (4, 3), (4, 4)]\n"
     ]
    }
   ],
   "source": [
    "from heapq import heappush, heappop\n",
    "\n",
    "# Step 1: Heuristic function (Manhattan distance (|x1-x2| + |y1-y2|))\n",
    "def heuristic(a, b):\n",
    "    return abs(a[0] - b[0]) + abs(a[1] - b[1])\n",
    "\n",
    "# Step 2: A* Search Function\n",
    "def astar(grid, start, goal):\n",
    "    # Open list: stores (f, g, current_position, path)\n",
    "    open_list = [(heuristic(start, goal), 0, start, [])]\n",
    "    visited = set()\n",
    "\n",
    "    while open_list:\n",
    "        # Step 3: Pick node with lowest f\n",
    "        f, g, current, path = heappop(open_list)\n",
    "\n",
    "        # Step 4: Skip already visited nodes\n",
    "        if current in visited:\n",
    "            continue\n",
    "        visited.add(current)\n",
    "\n",
    "        # Step 5: Build the path\n",
    "        path = path + [current]\n",
    "\n",
    "        # Step 6: Check if goal is reached\n",
    "        if current == goal:\n",
    "            return path\n",
    "\n",
    "        # Step 7: Explore neighbors (up, down, left, right)\n",
    "        for dx, dy in [(0,1), (0,-1), (1,0), (-1,0)]:\n",
    "            nx, ny = current[0] + dx, current[1] + dy\n",
    "\n",
    "            # Check grid boundaries and obstacles\n",
    "            if (0 <= nx < len(grid) and 0 <= ny < len(grid[0]) and grid[nx][ny] == 0):\n",
    "                new_g = g + 1\n",
    "                new_f = new_g + heuristic((nx, ny), goal)\n",
    "                heappush(open_list, (new_f, new_g, (nx, ny), path))\n",
    "\n",
    "    return None  # No path found\n",
    "\n",
    "# Grid: 0 = free, 1 = wall\n",
    "grid = [\n",
    "    [0, 1, 0, 0, 0],\n",
    "    [0, 1, 0, 1, 0],\n",
    "    [0, 0, 0, 1, 0],\n",
    "    [0, 1, 1, 1, 0],\n",
    "    [0, 0, 0, 0, 0]\n",
    "]\n",
    "\n",
    "start = (0, 0)  # Starting cell\n",
    "goal = (4, 4)   # Destination cell\n",
    "\n",
    "# Run A* Algorithm\n",
    "path = astar(grid, start, goal)\n",
    "\n",
    "# Output Result\n",
    "if path:\n",
    "    print(\"Shortest Path Found:\")\n",
    "    print(path)\n",
    "else:\n",
    "    print(\"No Path Found!\")\n"
   ]
  },
  {
   "cell_type": "code",
   "execution_count": null,
   "id": "3ff23d30",
   "metadata": {},
   "outputs": [],
   "source": []
  },
  {
   "cell_type": "code",
   "execution_count": null,
   "id": "ab3345a5",
   "metadata": {},
   "outputs": [],
   "source": []
  }
 ],
 "metadata": {
  "kernelspec": {
   "display_name": "Python 3",
   "language": "python",
   "name": "python3"
  },
  "language_info": {
   "codemirror_mode": {
    "name": "ipython",
    "version": 3
   },
   "file_extension": ".py",
   "mimetype": "text/x-python",
   "name": "python",
   "nbconvert_exporter": "python",
   "pygments_lexer": "ipython3",
   "version": "3.11.4"
  }
 },
 "nbformat": 4,
 "nbformat_minor": 5
}
