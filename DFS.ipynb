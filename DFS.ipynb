{
 "cells": [
  {
   "cell_type": "code",
   "execution_count": 1,
   "id": "56e5e51c",
   "metadata": {},
   "outputs": [
    {
     "name": "stdout",
     "output_type": "stream",
     "text": [
      "DFS Traversal starting from node A:\n",
      "A B D E F C "
     ]
    }
   ],
   "source": [
    "# Graph as adjacency list\n",
    "graph = {\n",
    "    'A': ['B', 'C'],\n",
    "    'B': ['D', 'E'],\n",
    "    'C': ['F'],\n",
    "    'D': [],\n",
    "    'E': ['F'],\n",
    "    'F': []\n",
    "}\n",
    "\n",
    "# Depth First Search function\n",
    "def dfs(graph, node, visited=None):\n",
    "    if visited is None:   # Step 1: Initialize visited set\n",
    "        visited = set()\n",
    "    if node not in visited:\n",
    "        print(node, end=\" \")   # Step 2: Visit (print) the node\n",
    "        visited.add(node)      # Step 3: Mark as visited\n",
    "        for neighbor in graph[node]:   # Step 4: Explore neighbors\n",
    "            dfs(graph, neighbor, visited)  # Step 5: Recursive call\n",
    "\n",
    "# Run DFS\n",
    "print(\"DFS Traversal starting from node A:\")\n",
    "dfs(graph, 'A')\n"
   ]
  }
 ],
 "metadata": {
  "kernelspec": {
   "display_name": "Python 3",
   "language": "python",
   "name": "python3"
  },
  "language_info": {
   "codemirror_mode": {
    "name": "ipython",
    "version": 3
   },
   "file_extension": ".py",
   "mimetype": "text/x-python",
   "name": "python",
   "nbconvert_exporter": "python",
   "pygments_lexer": "ipython3",
   "version": "3.11.4"
  }
 },
 "nbformat": 4,
 "nbformat_minor": 5
}
