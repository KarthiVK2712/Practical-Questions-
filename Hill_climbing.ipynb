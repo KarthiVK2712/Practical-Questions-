{
 "cells": [
  {
   "cell_type": "code",
   "execution_count": 12,
   "id": "7aba302b",
   "metadata": {},
   "outputs": [
    {
     "name": "stdout",
     "output_type": "stream",
     "text": [
      "Current x: 0\n",
      "Current value: 0\n",
      "Current x: 1\n",
      "Current value: 7\n",
      "Current x: 2\n",
      "Current value: 12\n",
      "Current x: 3\n",
      "Current value: 15\n",
      "Current x: 4\n",
      "Current value: 16\n",
      "Start Point: 0\n",
      "Optimal x: 4\n",
      "Maximum value: 16\n"
     ]
    }
   ],
   "source": [
    "#Example: Maximize f(x) = -x² + 8x for integer x\n",
    "\n",
    "import random\n",
    "\n",
    "def hill_climb_discrete(func, x_start, step=1, max_iterations=100):\n",
    "    current_x = x_start\n",
    "    current_value = func(current_x)\n",
    "\n",
    "    for _ in range(max_iterations):\n",
    "        # Generate neighbors (discrete steps)\n",
    "        neighbors = [current_x + step, current_x - step]\n",
    "        neighbor_values = [func(x) for x in neighbors]\n",
    "        print(\"Current x:\", current_x)\n",
    "        print(\"Current value:\", current_value)\n",
    "\n",
    "        # Select the best neighbor\n",
    "        max_value = max(neighbor_values)\n",
    "        max_index = neighbor_values.index(max_value)\n",
    "        best_neighbor = neighbors[max_index]\n",
    "\n",
    "        # Move to the neighbor if it improves the value\n",
    "        if max_value > current_value:\n",
    "            current_x = best_neighbor\n",
    "            current_value = max_value\n",
    "        else:\n",
    "            # No improvement → local maximum reached\n",
    "            break\n",
    "\n",
    "    return current_x, current_value\n",
    "\n",
    "# Function to maximize\n",
    "def f(x):\n",
    "    return -x**2 + 8*x\n",
    "\n",
    "# Start hill climbing from a random integer between 0 and 10\n",
    "start_point = random.randint(0, 10)\n",
    "solution_x, solution_value = hill_climb_discrete(f, start_point)\n",
    "\n",
    "print(\"Start Point:\", start_point)\n",
    "print(\"Optimal x:\", solution_x)\n",
    "print(\"Maximum value:\", solution_value)\n"
   ]
  }
 ],
 "metadata": {
  "kernelspec": {
   "display_name": "Python 3",
   "language": "python",
   "name": "python3"
  },
  "language_info": {
   "codemirror_mode": {
    "name": "ipython",
    "version": 3
   },
   "file_extension": ".py",
   "mimetype": "text/x-python",
   "name": "python",
   "nbconvert_exporter": "python",
   "pygments_lexer": "ipython3",
   "version": "3.11.4"
  }
 },
 "nbformat": 4,
 "nbformat_minor": 5
}
