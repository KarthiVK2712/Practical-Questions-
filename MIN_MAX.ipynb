{
 "cells": [
  {
   "cell_type": "code",
   "execution_count": 2,
   "id": "e8c6c3fe",
   "metadata": {},
   "outputs": [
    {
     "name": "stdout",
     "output_type": "stream",
     "text": [
      "\n",
      "--- MIN_MAX ALGORITHM ---\n",
      "Best value for MAX: 2\n"
     ]
    }
   ],
   "source": [
    "# Game tree structure (list of lists representing moves/outcomes)\n",
    "# The leaves (integers) are the utility values\n",
    "game_tree = [\n",
    "    [3, 5, 2],       # Branch 1 utilities\n",
    "    [9, 1, 2],       # Branch 2 utilities\n",
    "    [0, -1, -2]      # Branch 3 utilities\n",
    "]\n",
    "\n",
    "\n",
    "# 2. Define max_value function\n",
    "def max_value(node):\n",
    "    # 4. Terminal Check (Base Case)\n",
    "    if isinstance(node, int):  \n",
    "        return node\n",
    "    \n",
    "    max_val = float('-inf')\n",
    "    # 5. MAX Recursion\n",
    "    for child in node:\n",
    "        # MAX wants the maximum of the MIN's resulting values\n",
    "        val = min_value(child)  \n",
    "        max_val = max(max_val, val)\n",
    "    return max_val\n",
    "\n",
    "\n",
    "# 3. Define min_value function\n",
    "def min_value(node):\n",
    "    # 4. Terminal Check (Base Case)\n",
    "    if isinstance(node, int): \n",
    "        return node\n",
    "    \n",
    "    min_val = float('inf')\n",
    "    # 6. MIN Recursion\n",
    "    for child in node:\n",
    "        # MIN wants the minimum of the MAX's resulting values\n",
    "        val = max_value(child)  \n",
    "        min_val = min(min_val, val)\n",
    "    return min_val\n",
    "\n",
    "\n",
    "# 1. Start MAX Node\n",
    "best_value = max_value(game_tree)\n",
    "\n",
    "# 7. Result\n",
    "print(\"\\n--- MIN_MAX ALGORITHM ---\")\n",
    "print(\"Best value for MAX:\", best_value) # Should be 2 (min(3,5,2)=2, min(9,1,2)=1, min(0,-1,-2)=-2. Max(2, 1, -2)=2)"
   ]
  }
 ],
 "metadata": {
  "kernelspec": {
   "display_name": "Python 3",
   "language": "python",
   "name": "python3"
  },
  "language_info": {
   "codemirror_mode": {
    "name": "ipython",
    "version": 3
   },
   "file_extension": ".py",
   "mimetype": "text/x-python",
   "name": "python",
   "nbconvert_exporter": "python",
   "pygments_lexer": "ipython3",
   "version": "3.11.4"
  }
 },
 "nbformat": 4,
 "nbformat_minor": 5
}
