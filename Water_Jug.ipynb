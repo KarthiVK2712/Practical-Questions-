{
 "cells": [
  {
   "cell_type": "code",
   "execution_count": null,
   "id": "168ebf1b",
   "metadata": {},
   "outputs": [
    {
     "name": "stdout",
     "output_type": "stream",
     "text": [
      "Solution Path (Jug1, Jug2):\n",
      "(0, 0)\n",
      "(0, 3)\n",
      "(3, 0)\n",
      "(3, 3)\n",
      "(4, 2)\n"
     ]
    }
   ],
   "source": [
    "#BFS implementation of Water Jug problem\n",
    "\n",
    "from collections import deque\n",
    "\n",
    "def water_jug_bfs(jug1, jug2, target):\n",
    "    visited = set()\n",
    "    queue = deque([(0, 0)])\n",
    "    visited.add((0, 0))\n",
    "    parent = {(0, 0): None}\n",
    "\n",
    "    while queue:\n",
    "        x, y = queue.popleft()\n",
    "        if x == target or y == target:\n",
    "            path = []\n",
    "            current = (x, y)\n",
    "            while current is not None:\n",
    "                path.append(current)\n",
    "                current = parent[current]\n",
    "            return path[::-1]\n",
    "\n",
    "        possible_states = [\n",
    "            (jug1, y),\n",
    "            (x, jug2),\n",
    "            (0, y),\n",
    "            (x, 0),\n",
    "            (x - min(x, jug2 - y), y + min(x, jug2 - y)),\n",
    "            (x + min(y, jug1 - x), y - min(y, jug1 - x))\n",
    "        ]\n",
    "\n",
    "        for state in possible_states:\n",
    "            if state not in visited:\n",
    "                visited.add(state)      # mark visited immediately\n",
    "                parent[state] = (x, y)\n",
    "                queue.append(state)\n",
    "\n",
    "    return None\n",
    "\n",
    "solution = water_jug_bfs(4, 3, 2)\n",
    "print(\"Solution Path (Jug1, Jug2):\")\n",
    "for step in solution:\n",
    "    print(step)\n"
   ]
  },
  {
   "cell_type": "code",
   "execution_count": null,
   "id": "41196801",
   "metadata": {},
   "outputs": [
    {
     "name": "stdout",
     "output_type": "stream",
     "text": [
      "Solution Path (Jug1, Jug2) using DFS:\n",
      "(0, 0)\n",
      "(0, 3)\n",
      "(3, 0)\n",
      "(3, 3)\n",
      "(4, 2)\n"
     ]
    }
   ],
   "source": [
    "#DFS implementation of the water jug problem\n",
    "\n",
    "def water_jug_dfs(jug1, jug2, target):\n",
    "    stack = [(0, 0)]   # Step 1: Start with both jugs empty\n",
    "    visited = set()\n",
    "    parent = {(0, 0): None}  # To reconstruct path later\n",
    "\n",
    "    while stack:\n",
    "        x, y = stack.pop()   # Step 4: Take the last state (DFS)\n",
    "\n",
    "        # Step 6: Check if target is reached\n",
    "        if x == target or y == target:\n",
    "            path = []\n",
    "            current = (x, y)\n",
    "            while current is not None:   # ✅ stop when parent is None\n",
    "                path.append(current)\n",
    "                current = parent[current]\n",
    "            return path[::-1]  # reverse for start → goal order\n",
    "\n",
    "        # Step 5: Skip already visited states\n",
    "        if (x, y) in visited:\n",
    "            continue\n",
    "        visited.add((x, y))\n",
    "\n",
    "        # Step 3: Generate possible next states\n",
    "        possible_states = [\n",
    "            (jug1, y),     # Fill jug1\n",
    "            (x, jug2),     # Fill jug2\n",
    "            (0, y),        # Empty jug1\n",
    "            (x, 0),        # Empty jug2\n",
    "            (x - min(x, jug2 - y), y + min(x, jug2 - y)),  # Pour jug1 → jug2\n",
    "            (x + min(y, jug1 - x), y - min(y, jug1 - x))   # Pour jug2 → jug1\n",
    "        ]\n",
    "\n",
    "        # Step 4: Push new states onto stack\n",
    "        for state in possible_states:\n",
    "            if state not in visited:\n",
    "                parent[state] = (x, y)\n",
    "                stack.append(state)\n",
    "\n",
    "    return None  # No solution\n",
    "        \n",
    "\n",
    "# Example run: jugs of 4L and 3L, target = 2L\n",
    "solution = water_jug_dfs(4, 3, 2)\n",
    "\n",
    "print(\"Solution Path (Jug1, Jug2) using DFS:\")\n",
    "for step in solution:\n",
    "    print(step)\n"
   ]
  }
 ],
 "metadata": {
  "kernelspec": {
   "display_name": "Python 3",
   "language": "python",
   "name": "python3"
  },
  "language_info": {
   "codemirror_mode": {
    "name": "ipython",
    "version": 3
   },
   "file_extension": ".py",
   "mimetype": "text/x-python",
   "name": "python",
   "nbconvert_exporter": "python",
   "pygments_lexer": "ipython3",
   "version": "3.11.4"
  }
 },
 "nbformat": 4,
 "nbformat_minor": 5
}
