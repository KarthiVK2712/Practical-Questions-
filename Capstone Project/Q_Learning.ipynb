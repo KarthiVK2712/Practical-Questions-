{
 "cells": [
  {
   "cell_type": "code",
   "execution_count": 1,
   "id": "3ab2ecf5",
   "metadata": {},
   "outputs": [],
   "source": [
    "# q_learning_single_robot.py - starter script (single-robot Q-learning)\n",
    "import numpy as np\n",
    "import matplotlib.pyplot as plt\n",
    "from matplotlib.animation import FuncAnimation\n",
    "import random"
   ]
  },
  {
   "cell_type": "code",
   "execution_count": 2,
   "id": "3211dcde",
   "metadata": {},
   "outputs": [],
   "source": [
    "GRID_SIZE = 10\n",
    "grid = np.zeros((GRID_SIZE, GRID_SIZE), dtype=int)\n",
    "static_obstacles = [(2, 3), (5, 5), (3, 7), (6, 2), (7,7)]\n",
    "for (x, y) in static_obstacles:\n",
    "    grid[x, y] = 1\n",
    "start = (0, 0)\n",
    "goal = (9, 9)\n",
    "ACTIONS = [(-1,0),(1,0),(0,-1),(0,1)]"
   ]
  },
  {
   "cell_type": "code",
   "execution_count": 3,
   "id": "ff9ece9f",
   "metadata": {},
   "outputs": [],
   "source": [
    "def in_bounds(pos):\n",
    "    x,y = pos\n",
    "    return 0 <= x < GRID_SIZE and 0 <= y < GRID_SIZE\n",
    "\n",
    "def step(state, action):\n",
    "    x, y = state\n",
    "    dx, dy = ACTIONS[action]\n",
    "    nx, ny = x+dx, y+dy\n",
    "    next_pos = (nx, ny)\n",
    "    if not in_bounds(next_pos) or grid[nx, ny] == 1:\n",
    "        return state, -10, False\n",
    "    if next_pos == goal:\n",
    "        return next_pos, 10, True\n",
    "    return next_pos, -1, False"
   ]
  },
  {
   "cell_type": "code",
   "execution_count": 4,
   "id": "7fa7f56f",
   "metadata": {},
   "outputs": [],
   "source": [
    "def draw_grid(grid, robot_pos=None, path=None, show=True, pause=0.25):\n",
    "    fig, ax = plt.subplots(figsize=(5,5))\n",
    "    ax.imshow(grid)\n",
    "    ax.set_xticks(np.arange(-0.5, GRID_SIZE, 1))\n",
    "    ax.set_yticks(np.arange(-0.5, GRID_SIZE, 1))\n",
    "    ax.set_xticklabels([])\n",
    "    ax.set_yticklabels([])\n",
    "    ax.grid(True, linewidth=0.5)\n",
    "    for (x,y) in static_obstacles:\n",
    "        ax.scatter(y, x, s=180, marker='s')\n",
    "    gx, gy = goal\n",
    "    ax.text(gy, gx, \"G\", va='center', ha='center', fontsize=10)\n",
    "    if path is not None and len(path) > 0:\n",
    "        ys = [p[1] for p in path]\n",
    "        xs = [p[0] for p in path]\n",
    "        ax.plot(ys, xs, linewidth=2)\n",
    "    if robot_pos is not None:\n",
    "        rx, ry = robot_pos\n",
    "        ax.scatter(ry, rx, s=220, marker='o')\n",
    "    if show:\n",
    "        plt.show(block=False)\n",
    "        plt.pause(pause)\n",
    "        plt.close(fig)\n",
    "    return fig, ax"
   ]
  },
  {
   "cell_type": "code",
   "execution_count": 5,
   "id": "589478a6",
   "metadata": {},
   "outputs": [],
   "source": [
    "# Q-learning parameters\n",
    "q_table = np.zeros((GRID_SIZE, GRID_SIZE, len(ACTIONS)), dtype=float)\n",
    "alpha = 0.1\n",
    "gamma = 0.9\n",
    "epsilon = 0.3\n",
    "min_epsilon = 0.05\n",
    "decay = 0.995\n",
    "episodes = 600\n",
    "max_steps = 100"
   ]
  },
  {
   "cell_type": "code",
   "execution_count": 6,
   "id": "3c895c62",
   "metadata": {},
   "outputs": [],
   "source": [
    "for ep in range(episodes):\n",
    "    state = start\n",
    "    for step_i in range(max_steps):\n",
    "        x,y = state\n",
    "        if random.random() < epsilon:\n",
    "            action = random.randint(0, len(ACTIONS)-1)\n",
    "        else:\n",
    "            action = int(np.argmax(q_table[x,y]))\n",
    "        next_state, reward, done = step(state, action)\n",
    "        nx, ny = next_state\n",
    "        old = q_table[x, y, action]\n",
    "        future = 0 if done else np.max(q_table[nx, ny])\n",
    "        q_table[x, y, action] = old + alpha * (reward + gamma * future - old)\n",
    "        state = next_state\n",
    "        if done:\n",
    "            break\n",
    "    epsilon = max(min_epsilon, epsilon * decay)"
   ]
  },
  {
   "cell_type": "code",
   "execution_count": 7,
   "id": "b7086485",
   "metadata": {},
   "outputs": [
    {
     "name": "stdout",
     "output_type": "stream",
     "text": [
      "Test path length: 19 Reached goal: True\n"
     ]
    }
   ],
   "source": [
    "# test greedy path\n",
    "state = start\n",
    "path = [state]\n",
    "for _ in range(200):\n",
    "    x,y = state\n",
    "    action = int(np.argmax(q_table[x,y]))\n",
    "    next_state, reward, done = step(state, action)\n",
    "    if next_state == state and reward < 0:\n",
    "        break\n",
    "    path.append(next_state)\n",
    "    state = next_state\n",
    "    if done:\n",
    "        break\n",
    "\n",
    "print(\"Test path length:\", len(path), \"Reached goal:\", path[-1] == goal)"
   ]
  },
  {
   "cell_type": "code",
   "execution_count": 8,
   "id": "d44db2cf",
   "metadata": {},
   "outputs": [
    {
     "data": {
      "image/png": "[encoded data removed]",
      "text/plain": [
       "<Figure size 500x500 with 1 Axes>"
      ]
     },
     "metadata": {},
     "output_type": "display_data"
    }
   ],
   "source": [
    "# ---------------- Smooth Animation ----------------\n",
    "def animate_path(grid, path, obstacles, goal, interval=300):\n",
    "    fig, ax = plt.subplots(figsize=(5, 5))\n",
    "    ax.imshow(grid, cmap=\"Greys\")\n",
    "\n",
    "    # Draw obstacles\n",
    "    for (x, y) in obstacles:\n",
    "        ax.scatter(y, x, s=180, marker=\"s\", color=\"black\")\n",
    "\n",
    "    # Draw goal\n",
    "    gx, gy = goal\n",
    "    ax.text(gy, gx, \"G\", va=\"center\", ha=\"center\", fontsize=12, color=\"red\")\n",
    "\n",
    "    # Robot marker and path line\n",
    "    robot_dot, = ax.plot([], [], \"ro\", markersize=12)\n",
    "    path_line, = ax.plot([], [], \"b-\", linewidth=2)\n",
    "\n",
    "    def init():\n",
    "        robot_dot.set_data([], [])\n",
    "        path_line.set_data([], [])\n",
    "        return robot_dot, path_line\n",
    "\n",
    "    def update(frame):\n",
    "        xs = [p[0] for p in path[:frame+1]]\n",
    "        ys = [p[1] for p in path[:frame+1]]\n",
    "        robot_dot.set_data(ys[-1], xs[-1])   # robot position\n",
    "        path_line.set_data(ys, xs)           # path so far\n",
    "        return robot_dot, path_line\n",
    "\n",
    "    ani = FuncAnimation(fig, update, frames=len(path),\n",
    "                        init_func=init, blit=True,\n",
    "                        interval=interval, repeat=False)\n",
    "    plt.show()\n",
    "\n",
    "# Run the animation\n",
    "animate_path(grid, path, static_obstacles, goal)"
   ]
  },
  {
   "cell_type": "code",
   "execution_count": null,
   "id": "de660abf",
   "metadata": {},
   "outputs": [],
   "source": []
  }
 ],
 "metadata": {
  "kernelspec": {
   "display_name": "Python 3",
   "language": "python",
   "name": "python3"
  },
  "language_info": {
   "codemirror_mode": {
    "name": "ipython",
    "version": 3
   },
   "file_extension": ".py",
   "mimetype": "text/x-python",
   "name": "python",
   "nbconvert_exporter": "python",
   "pygments_lexer": "ipython3",
   "version": "3.11.4"
  }
 },
 "nbformat": 4,
 "nbformat_minor": 5
}
