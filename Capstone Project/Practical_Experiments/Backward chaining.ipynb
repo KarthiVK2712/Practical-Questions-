{
 "cells": [
  {
   "cell_type": "code",
   "execution_count": null,
   "id": "f11d01ec",
   "metadata": {},
   "outputs": [],
   "source": [
    "# Exp15\n",
    "\n",
    "# Simple Backward Chaining with User Input\n",
    "\n",
    "# Step 1: Input facts\n",
    "facts = set()\n",
    "n = int(input(\"Enter number of facts (e.g., parent john mary): \"))\n",
    "for i in range(n):\n",
    "    fact = input(f\"Enter fact {i+1}: \")\n",
    "    facts.add(tuple(fact.split()))\n",
    "\n",
    "# Step 2: Input query and check\n",
    "while True:\n",
    "    query = input(\"\\nEnter query (e.g., parent john mary) or 'done': \")\n",
    "    if query.lower() == \"done\":\n",
    "        break\n",
    "    q = tuple(query.split())\n",
    "    print(\"Result:\", q in facts)\n",
    "\n"
   ]
  },
  {
   "cell_type": "code",
   "execution_count": null,
   "id": "68fa404e",
   "metadata": {},
   "outputs": [
    {
     "name": "stdout",
     "output_type": "stream",
     "text": [
      "\n",
      "All facts (including derived):\n",
      "('parent', 'lakshmanan', 'kaveri')\n",
      "('parent', 'kaveri', 'karthi')\n",
      "('grandparent', 'lakshmanan', 'karthi')\n",
      "('parent', 'santhi', 'ashwathi')\n"
     ]
    }
   ],
   "source": [
    "# Exp15\n",
    "\n",
    "# Step 1: Input facts\n",
    "facts = set()\n",
    "n = int(input(\"Enter number of parent facts: \"))\n",
    "for i in range(n):\n",
    "    parent = input(f\"Enter parent name {i+1}: \")\n",
    "    child = input(f\"Enter child name {i+1}: \")\n",
    "    facts.add((\"parent\", parent.lower(), child.lower()))\n",
    "\n",
    "# Step 2: Apply simple rule: if parent(X,Y) and parent(Y,Z) => grandparent(X,Z)\n",
    "derived_facts = set()\n",
    "for f1 in facts:\n",
    "    if f1[0] == \"parent\":\n",
    "        for f2 in facts:\n",
    "            if f2[0] == \"parent\" and f1[2] == f2[1]:\n",
    "                derived_facts.add((\"grandparent\", f1[1], f2[2]))\n",
    "\n",
    "# Add derived facts\n",
    "facts = facts.union(derived_facts)\n",
    "\n",
    "# Step 3: Show all facts\n",
    "print(\"\\nAll facts (including derived):\")\n",
    "for f in facts:\n",
    "    print(f)\n",
    "\n",
    "# Step 4: Query loop\n",
    "while True:\n",
    "    query = input(\"\\nEnter query (e.g., parent john mary or grandparent john susan) or 'done': \").lower()\n",
    "    if query == \"done\":\n",
    "        break\n",
    "    q = tuple(query.split())\n",
    "    print(\"Result:\", q in facts)\n"
   ]
  }
 ],
 "metadata": {
  "kernelspec": {
   "display_name": "Python 3",
   "language": "python",
   "name": "python3"
  },
  "language_info": {
   "codemirror_mode": {
    "name": "ipython",
    "version": 3
   },
   "file_extension": ".py",
   "mimetype": "text/x-python",
   "name": "python",
   "nbconvert_exporter": "python",
   "pygments_lexer": "ipython3",
   "version": "3.11.4"
  }
 },
 "nbformat": 4,
 "nbformat_minor": 5
}
