{
 "cells": [
  {
   "cell_type": "code",
   "execution_count": 1,
   "id": "44b2e12c",
   "metadata": {},
   "outputs": [
    {
     "name": "stdout",
     "output_type": "stream",
     "text": [
      "Optimal value: 5\n"
     ]
    }
   ],
   "source": [
    "# Minimax with Alpha-Beta Pruning\n",
    "\n",
    "def alphabeta(depth, nodeIndex, maximizingPlayer, values, alpha, beta):\n",
    "    # Base case: leaf node\n",
    "    if depth == 3:\n",
    "        return values[nodeIndex]\n",
    "\n",
    "    if maximizingPlayer:\n",
    "        best = float('-inf')\n",
    "        # Recur for left and right children\n",
    "        for i in range(2):\n",
    "            val = alphabeta(depth + 1, nodeIndex * 2 + i, False, values, alpha, beta)\n",
    "            best = max(best, val)\n",
    "            alpha = max(alpha, best)\n",
    "\n",
    "            # Alpha-Beta pruning condition\n",
    "            if beta <= alpha:\n",
    "                break\n",
    "        return best\n",
    "    else:\n",
    "        best = float('inf')\n",
    "        for i in range(2):\n",
    "            val = alphabeta(depth + 1, nodeIndex * 2 + i, True, values, alpha, beta)\n",
    "            best = min(best, val)\n",
    "            beta = min(beta, best)\n",
    "\n",
    "            if beta <= alpha:\n",
    "                break\n",
    "        return best\n",
    "\n",
    "\n",
    "# Example: game tree leaves\n",
    "values = [3, 5, 6, 9, 1, 2, 0, -1]\n",
    "\n",
    "print(\"Optimal value:\", alphabeta(0, 0, True, values, float('-inf'), float('inf')))\n"
   ]
  }
 ],
 "metadata": {
  "kernelspec": {
   "display_name": "Python 3",
   "language": "python",
   "name": "python3"
  },
  "language_info": {
   "codemirror_mode": {
    "name": "ipython",
    "version": 3
   },
   "file_extension": ".py",
   "mimetype": "text/x-python",
   "name": "python",
   "nbconvert_exporter": "python",
   "pygments_lexer": "ipython3",
   "version": "3.11.4"
  }
 },
 "nbformat": 4,
 "nbformat_minor": 5
}
