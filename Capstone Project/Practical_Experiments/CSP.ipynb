{
 "cells": [
  {
   "cell_type": "code",
   "execution_count": null,
   "id": "2077df1a",
   "metadata": {},
   "outputs": [
    {
     "name": "stdout",
     "output_type": "stream",
     "text": [
      "\n",
      "--- CONSTRAINT SATISFACTION (CSP) ---\n",
      "Solution (Map Coloring): {'A': 'Red', 'B': 'Green', 'C': 'Blue', 'D': 'Red'}\n"
     ]
    }
   ],
   "source": [
    "#Exp10\n",
    "\n",
    "# 1. Setup Constraints (Map Coloring Example)\n",
    "variables = ['A', 'B', 'C', 'D']\n",
    "domains = {v: ['Red', 'Green', 'Blue'] for v in variables}\n",
    "\n",
    "# Constraints: A is neighbor to B, C, etc.\n",
    "constraints = {\n",
    "    'A': ['B', 'C'],\n",
    "    'B': ['A', 'C', 'D'],\n",
    "    'C': ['A', 'B', 'D'],\n",
    "    'D': ['B', 'C']\n",
    "}\n",
    "\n",
    "# 2. Safety Check\n",
    "def is_safe(var, value, assignment):\n",
    "    # Check if 'value' conflicts with any assigned neighbor\n",
    "    for neighbor in constraints[var]:\n",
    "        if neighbor in assignment and assignment[neighbor] == value:\n",
    "            return False\n",
    "    return True\n",
    "\n",
    "# Backtracking Search Function\n",
    "def backtrack(assignment={}):\n",
    "    # 3. Base Case\n",
    "    if len(assignment) == len(variables):\n",
    "        return assignment\n",
    "    \n",
    "    # 4. Select Variable (Simplest: first unassigned)\n",
    "    unassigned = [v for v in variables if v not in assignment][0]\n",
    "    \n",
    "    # 5. Iterate Values\n",
    "    for value in domains[unassigned]:\n",
    "        # 6. Safe Assignment\n",
    "        if is_safe(unassigned, value, assignment):\n",
    "            assignment[unassigned] = value\n",
    "            result = backtrack(assignment)\n",
    "            \n",
    "            # If a solution is found in a deeper call, pass it up\n",
    "            if result:\n",
    "                return result\n",
    "            \n",
    "            # 7. Return/Undo (Backtrack)\n",
    "            assignment.pop(unassigned) # Un-assign the variable\n",
    "    \n",
    "    # No valid assignment found for this branch\n",
    "    return None\n",
    "\n",
    "# Start search\n",
    "solution = backtrack()\n",
    "\n",
    "print(\"\\n--- CONSTRAINT SATISFACTION (CSP) ---\")\n",
    "print(\"Solution (Map Coloring):\", solution)"
   ]
  }
 ],
 "metadata": {
  "kernelspec": {
   "display_name": "Python 3",
   "language": "python",
   "name": "python3"
  },
  "language_info": {
   "codemirror_mode": {
    "name": "ipython",
    "version": 3
   },
   "file_extension": ".py",
   "mimetype": "text/x-python",
   "name": "python",
   "nbconvert_exporter": "python",
   "pygments_lexer": "ipython3",
   "version": "3.11.4"
  }
 },
 "nbformat": 4,
 "nbformat_minor": 5
}
