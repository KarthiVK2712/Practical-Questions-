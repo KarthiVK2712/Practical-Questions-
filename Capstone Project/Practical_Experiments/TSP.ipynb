{
 "cells": [
  {
   "cell_type": "code",
   "execution_count": null,
   "id": "ef5dfd03",
   "metadata": {},
   "outputs": [
    {
     "name": "stdout",
     "output_type": "stream",
     "text": [
      "Optimal path: [0, 1, 3, 2, 0]\n",
      "Minimum cost: 80\n"
     ]
    }
   ],
   "source": [
    "#Exp06\n",
    "\n",
    "from itertools import permutations\n",
    "\n",
    "\n",
    "dist = [\n",
    "    [0, 10, 15, 20],\n",
    "    [10, 0, 35, 25],\n",
    "    [15, 35, 0, 30],\n",
    "    [20, 25, 30, 0]\n",
    "]\n",
    "\n",
    "n = len(dist)\n",
    "cities = list(range(n))\n",
    "min_cost = float('inf')\n",
    "best_path = []\n",
    "\n",
    "for perm in permutations(cities[1:]):\n",
    "    path = [0] + list(perm) + [0]  \n",
    "    cost = sum(dist[path[i]][path[i+1]] for i in range(n))\n",
    "    if cost < min_cost:\n",
    "        min_cost = cost\n",
    "        best_path = path\n",
    "\n",
    "print(\"Optimal path:\", best_path)\n",
    "print(\"Minimum cost:\", min_cost)\n"
   ]
  },
  {
   "cell_type": "code",
   "execution_count": null,
   "id": "c1fe626c",
   "metadata": {},
   "outputs": [],
   "source": []
  }
 ],
 "metadata": {
  "kernelspec": {
   "display_name": "Python 3",
   "language": "python",
   "name": "python3"
  },
  "language_info": {
   "codemirror_mode": {
    "name": "ipython",
    "version": 3
   },
   "file_extension": ".py",
   "mimetype": "text/x-python",
   "name": "python",
   "nbconvert_exporter": "python",
   "pygments_lexer": "ipython3",
   "version": "3.11.4"
  }
 },
 "nbformat": 4,
 "nbformat_minor": 5
}
