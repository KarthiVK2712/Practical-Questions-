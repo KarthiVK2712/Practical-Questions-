{
 "cells": [
  {
   "cell_type": "code",
   "execution_count": null,
   "id": "046ef9bc",
   "metadata": {},
   "outputs": [
    {
     "name": "stdout",
     "output_type": "stream",
     "text": [
      "Derived: rainy\n",
      "Derived: wet_ground\n",
      "Derived: take_umbrella\n",
      "\n",
      "Final Facts: {'take_umbrella', 'cloudy', 'wet_ground', 'rainy'}\n",
      "Goal Reached? True\n"
     ]
    }
   ],
   "source": [
    "# exp14\n",
    "\n",
    "# Initial facts\n",
    "facts = {\"cloudy\"}\n",
    "\n",
    "# Rules in the form: (conditions, conclusion)\n",
    "rules = [\n",
    "    ({\"cloudy\"}, \"rainy\"),\n",
    "    ({\"rainy\"}, \"wet_ground\"),\n",
    "    ({\"wet_ground\"}, \"take_umbrella\")\n",
    "]\n",
    "\n",
    "def forward_chaining(facts, rules, goal):\n",
    "    applied = True\n",
    "    while applied:\n",
    "        applied = False\n",
    "        for conditions, conclusion in rules:\n",
    "            # If all conditions are satisfied and conclusion not already in facts\n",
    "            if conditions.issubset(facts) and conclusion not in facts:\n",
    "                facts.add(conclusion)\n",
    "                applied = True\n",
    "                print(f\"Derived: {conclusion}\")\n",
    "                if conclusion == goal:\n",
    "                    return True\n",
    "    return False\n",
    "\n",
    "# Run\n",
    "goal = \"take_umbrella\"\n",
    "success = forward_chaining(facts, rules, goal)\n",
    "\n",
    "print(\"\\nFinal Facts:\", facts)\n",
    "print(\"Goal Reached?\", success)\n"
   ]
  },
  {
   "cell_type": "code",
   "execution_count": null,
   "id": "f1b8a7f1",
   "metadata": {},
   "outputs": [
    {
     "name": "stdout",
     "output_type": "stream",
     "text": [
      "\n",
      "--- Derived Facts ---\n",
      "('parent', 'Santhi', 'Ashwathi')\n",
      "('parent', 'Sanjeevini', 'Jaishu')\n",
      "('parent', 'Kaveri', 'Karthi')\n"
     ]
    }
   ],
   "source": [
    "# Forward Chaining in Python with user input\n",
    "\n",
    "def forward_chaining(facts):\n",
    "    inferred = set()\n",
    "    for (rel1, x, y) in facts:\n",
    "        if rel1 == \"parent\":\n",
    "            for (rel2, y2, z) in facts:\n",
    "                if rel2 == \"parent\" and y == y2:\n",
    "                    inferred.add((\"grandparent\", x, z))\n",
    "    return inferred\n",
    "\n",
    "# Step 1: Take user input for facts\n",
    "facts = set()\n",
    "n = int(input(\"Enter number of parent facts: \"))\n",
    "\n",
    "for i in range(n):\n",
    "    x = input(f\"Enter parent name {i+1} (who is the parent): \")\n",
    "    y = input(f\"Enter child name {i+1}: \")\n",
    "    facts.add((\"parent\", x, y))\n",
    "\n",
    "# Step 2: Apply forward chaining\n",
    "new_facts = forward_chaining(facts)\n",
    "facts = facts.union(new_facts)\n",
    "\n",
    "# Step 3: Display results\n",
    "print(\"\\n--- Derived Facts ---\")\n",
    "for fact in facts:\n",
    "    print(fact)\n"
   ]
  }
 ],
 "metadata": {
  "kernelspec": {
   "display_name": "Python 3",
   "language": "python",
   "name": "python3"
  },
  "language_info": {
   "codemirror_mode": {
    "name": "ipython",
    "version": 3
   },
   "file_extension": ".py",
   "mimetype": "text/x-python",
   "name": "python",
   "nbconvert_exporter": "python",
   "pygments_lexer": "ipython3",
   "version": "3.11.4"
  }
 },
 "nbformat": 4,
 "nbformat_minor": 5
}
