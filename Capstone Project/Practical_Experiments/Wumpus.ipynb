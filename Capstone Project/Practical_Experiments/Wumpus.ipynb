{
 "cells": [
  {
   "cell_type": "code",
   "execution_count": null,
   "id": "de223be0",
   "metadata": {},
   "outputs": [
    {
     "name": "stdout",
     "output_type": "stream",
     "text": [
      "\n",
      "Agent path to gold (safe cells only):\n",
      "(0, 0)\n",
      "(1, 0)\n",
      "(2, 0)\n",
      "(3, 0)\n",
      "(3, 1)\n",
      "(3, 2)\n",
      "(3, 3)\n",
      "\n",
      "Gold collected successfully! Agent exits safely.\n"
     ]
    }
   ],
   "source": [
    "#Exp16\n",
    "\n",
    "# Simple Automatic Wumpus World (4x4)\n",
    "from collections import deque\n",
    "\n",
    "# Grid size\n",
    "N = 4\n",
    "grid = [[\"\" for _ in range(N)] for _ in range(N)]\n",
    "\n",
    "# User input for Wumpus, Gold, and Pits\n",
    "wumpus = tuple(map(int, input(\"Enter Wumpus position (row col 0-3): \").split()))\n",
    "gold = tuple(map(int, input(\"Enter Gold position (row col 0-3): \").split()))\n",
    "pits = []\n",
    "n_pits = int(input(\"Enter number of pits: \"))\n",
    "for i in range(n_pits):\n",
    "    pits.append(tuple(map(int, input(f\"Enter Pit {i+1} position: \").split())))\n",
    "\n",
    "# Place items in grid\n",
    "grid[wumpus[0]][wumpus[1]] = \"W\"\n",
    "grid[gold[0]][gold[1]] = \"G\"\n",
    "for pit in pits:\n",
    "    grid[pit[0]][pit[1]] = \"P\"\n",
    "\n",
    "# Agent starting position\n",
    "start = (0, 0)\n",
    "\n",
    "# Possible moves\n",
    "moves = [(-1,0),(1,0),(0,-1),(0,1)]  # up, down, left, right\n",
    "\n",
    "# Function to check safe cell\n",
    "def is_safe(x, y, visited):\n",
    "    return 0 <= x < N and 0 <= y < N and (x,y) not in visited and grid[x][y] != \"W\" and grid[x][y] != \"P\"\n",
    "\n",
    "# BFS-based pathfinding to gold (agent explores only safe cells)\n",
    "def find_gold(start):\n",
    "    queue = deque()\n",
    "    queue.append((start, [start]))  # (current_pos, path)\n",
    "    visited = set()\n",
    "    visited.add(start)\n",
    "    \n",
    "    while queue:\n",
    "        pos, path = queue.popleft()\n",
    "        x, y = pos\n",
    "        if grid[x][y] == \"G\":\n",
    "            return path  # Gold found\n",
    "        for dx, dy in moves:\n",
    "            nx, ny = x+dx, y+dy\n",
    "            if is_safe(nx, ny, visited):\n",
    "                visited.add((nx, ny))\n",
    "                queue.append(((nx, ny), path+[(nx, ny)]))\n",
    "    return None\n",
    "\n",
    "# Run the agent\n",
    "path_to_gold = find_gold(start)\n",
    "if path_to_gold:\n",
    "    print(\"\\nAgent path to gold (safe cells only):\")\n",
    "    for step in path_to_gold:\n",
    "        print(step)\n",
    "    print(\"\\nGold collected successfully! Agent exits safely.\")\n",
    "else:\n",
    "    print(\"No safe path to gold found. Agent cannot survive.\")\n"
   ]
  }
 ],
 "metadata": {
  "kernelspec": {
   "display_name": "Python 3",
   "language": "python",
   "name": "python3"
  },
  "language_info": {
   "codemirror_mode": {
    "name": "ipython",
    "version": 3
   },
   "file_extension": ".py",
   "mimetype": "text/x-python",
   "name": "python",
   "nbconvert_exporter": "python",
   "pygments_lexer": "ipython3",
   "version": "3.11.4"
  }
 },
 "nbformat": 4,
 "nbformat_minor": 5
}
