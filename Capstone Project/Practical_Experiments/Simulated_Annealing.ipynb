{
 "cells": [
  {
   "cell_type": "code",
   "execution_count": null,
   "id": "6178d15b",
   "metadata": {},
   "outputs": [
    {
     "name": "stdout",
     "output_type": "stream",
     "text": [
      "\n",
      "--- SIMULATED ANNEALING (2D) ---\n",
      "Best solution found: x = -0.0482, y = -0.0638\n",
      "Function value at best (x, y): 0.0064\n"
     ]
    }
   ],
   "source": [
    "#Exp07\n",
    "\n",
    "#Simulated Annealing for 2D function f(x, y)\n",
    "\n",
    "import math\n",
    "import random\n",
    "\n",
    "# The function to minimize: f(x, y) = x^2 + y^2. Global minimum at (0, 0), f(x, y)=0.\n",
    "def f(x, y):\n",
    "    return x**2 + y**2 \n",
    "\n",
    "def simulated_annealing_2d():\n",
    "    \n",
    "    # 2. Initialize State\n",
    "    current_x = random.uniform(-5, 5)\n",
    "    current_y = random.uniform(-5, 5)\n",
    "    current_cost = f(current_x, current_y)\n",
    "\n",
    "    T = 100       # Initial Temperature\n",
    "    T_min = 0.01  # Minimum Temperature\n",
    "    alpha = 0.95  # Cooling Rate\n",
    "    step_size = 0.5\n",
    "\n",
    "    # 3. Loop Start\n",
    "    while T > T_min:\n",
    "        \n",
    "        # 4. Generate Neighbor (perturb both x and y)\n",
    "        new_x = current_x + random.uniform(-step_size, step_size)\n",
    "        new_y = current_y + random.uniform(-step_size, step_size)\n",
    "        new_cost = f(new_x, new_y)\n",
    "\n",
    "        # 5. Calculate Delta\n",
    "        delta = new_cost - current_cost\n",
    "\n",
    "        # 6. Acceptance Rule\n",
    "        if delta < 0 or random.random() < math.exp(-delta / T):\n",
    "            current_x, current_y = new_x, new_y\n",
    "            current_cost = new_cost\n",
    "\n",
    "        # 7. Cooling\n",
    "        T *= alpha\n",
    "\n",
    "    return current_x, current_y, current_cost\n",
    "\n",
    "\n",
    "best_x, best_y, best_cost = simulated_annealing_2d()\n",
    "print(\"\\n--- SIMULATED ANNEALING (2D) ---\")\n",
    "print(f\"Best solution found: x = {best_x:.4f}, y = {best_y:.4f}\")\n",
    "print(f\"Function value at best (x, y): {best_cost:.4f}\")"
   ]
  }
 ],
 "metadata": {
  "kernelspec": {
   "display_name": "Python 3",
   "language": "python",
   "name": "python3"
  },
  "language_info": {
   "codemirror_mode": {
    "name": "ipython",
    "version": 3
   },
   "file_extension": ".py",
   "mimetype": "text/x-python",
   "name": "python",
   "nbconvert_exporter": "python",
   "pygments_lexer": "ipython3",
   "version": "3.11.4"
  }
 },
 "nbformat": 4,
 "nbformat_minor": 5
}
