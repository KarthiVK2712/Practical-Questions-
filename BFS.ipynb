{
 "cells": [
  {
   "cell_type": "code",
   "execution_count": 2,
   "id": "4962ab61",
   "metadata": {},
   "outputs": [],
   "source": [
    "from collections import deque\n",
    "\n",
    "# Graph represented as adjacency list\n",
    "graph = {\n",
    "    'A': ['B', 'C'],\n",
    "    'B': ['D', 'E'],\n",
    "    'C': ['F'],\n",
    "    'D': [],\n",
    "    'E': ['F'],\n",
    "    'F': []\n",
    "}\n",
    "\n",
    "def bfs_shortest_path(graph, start):\n",
    "    visited = set()                # Step 1: Track visited nodes\n",
    "    queue = deque([start])         # Step 1: Initialize queue\n",
    "    distance = {start: 0}          # Step 2: Distance of start node = 0\n",
    "    \n",
    "    while queue:                   # Step 3: Loop until queue empty\n",
    "        node = queue.popleft()     # Step 3: Dequeue\n",
    "        print(f\"Visited {node}, Distance: {distance[node]}\")  # Step 4: Process\n",
    "        \n",
    "        for neighbor in graph[node]:   # Step 5: Check neighbors\n",
    "            if neighbor not in visited:\n",
    "                visited.add(neighbor)                  # Step 6a: Mark visited\n",
    "                distance[neighbor] = distance[node] + 1 # Step 6b: Record distance\n",
    "                queue.append(neighbor)                  # Step 6c: Enqueue\n",
    "    \n",
    "    return distance\n",
    "\n"
   ]
  },
  {
   "cell_type": "code",
   "execution_count": 3,
   "id": "f07cc4c3",
   "metadata": {},
   "outputs": [
    {
     "name": "stdout",
     "output_type": "stream",
     "text": [
      "BFS Traversal with Shortest Distances from A:\n",
      "Visited A, Distance: 0\n",
      "Visited B, Distance: 1\n",
      "Visited C, Distance: 1\n",
      "Visited D, Distance: 2\n",
      "Visited E, Distance: 2\n",
      "Visited F, Distance: 2\n",
      "\n",
      "Final Shortest Distances:\n",
      "A: 0\n",
      "B: 1\n",
      "C: 1\n",
      "D: 2\n",
      "E: 2\n",
      "F: 2\n"
     ]
    }
   ],
   "source": [
    "# Run BFS\n",
    "print(\"BFS Traversal with Shortest Distances from A:\")\n",
    "distances = bfs_shortest_path(graph, 'A')\n",
    "\n",
    "print(\"\\nFinal Shortest Distances:\")\n",
    "for node, dist in distances.items():\n",
    "    print(f\"{node}: {dist}\")"
   ]
  }
 ],
 "metadata": {
  "kernelspec": {
   "display_name": "Python 3",
   "language": "python",
   "name": "python3"
  },
  "language_info": {
   "codemirror_mode": {
    "name": "ipython",
    "version": 3
   },
   "file_extension": ".py",
   "mimetype": "text/x-python",
   "name": "python",
   "nbconvert_exporter": "python",
   "pygments_lexer": "ipython3",
   "version": "3.11.4"
  }
 },
 "nbformat": 4,
 "nbformat_minor": 5
}
