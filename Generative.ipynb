{
 "cells": [
  {
   "cell_type": "code",
   "execution_count": 1,
   "id": "996bab4b",
   "metadata": {},
   "outputs": [
    {
     "name": "stdout",
     "output_type": "stream",
     "text": [
      "Gen 1: Best Fitness = 841\n",
      "Gen 2: Best Fitness = 784\n",
      "Gen 3: Best Fitness = 784\n",
      "Gen 4: Best Fitness = 784\n",
      "Gen 5: Best Fitness = 900\n",
      "Gen 6: Best Fitness = 784\n",
      "Gen 7: Best Fitness = 961\n",
      "Gen 8: Best Fitness = 900\n",
      "Gen 9: Best Fitness = 961\n",
      "Gen 10: Best Fitness = 900\n",
      "\n",
      "Best Chromosome: [1, 1, 1, 1, 0]\n",
      "Best x = 30\n",
      "Max f(x) = 900\n"
     ]
    }
   ],
   "source": [
    "import random\n",
    "\n",
    "# Parameters\n",
    "POP_SIZE = 6\n",
    "GENE_LENGTH = 5\n",
    "GENERATIONS = 10\n",
    "MUTATION_RATE = 0.1\n",
    "\n",
    "# Fitness function\n",
    "def fitness(chromo):\n",
    "    x = int(\"\".join(str(g) for g in chromo), 2)\n",
    "    return x**2\n",
    "\n",
    "# Create random chromosome\n",
    "def random_chromo():\n",
    "    return [random.randint(0,1) for _ in range(GENE_LENGTH)]\n",
    "\n",
    "# Selection: choose best 2\n",
    "def select(population):\n",
    "    sorted_pop = sorted(population, key=fitness, reverse=True)\n",
    "    return sorted_pop[0], sorted_pop[1]\n",
    "\n",
    "# Crossover: single point\n",
    "def crossover(p1, p2):\n",
    "    point = random.randint(1, GENE_LENGTH-1)\n",
    "    return p1[:point] + p2[point:], p2[:point] + p1[point:]\n",
    "\n",
    "# Mutation\n",
    "def mutate(chromo):\n",
    "    return [1-g if random.random()<MUTATION_RATE else g for g in chromo]\n",
    "\n",
    "# Initialize population\n",
    "population = [random_chromo() for _ in range(POP_SIZE)]\n",
    "\n",
    "# Run GA\n",
    "for gen in range(GENERATIONS):\n",
    "    p1, p2 = select(population)\n",
    "    child1, child2 = crossover(p1, p2)\n",
    "    child1 = mutate(child1)\n",
    "    child2 = mutate(child2)\n",
    "    population[-2:] = [child1, child2]  # replace worst 2\n",
    "    best = max(population, key=fitness)\n",
    "    print(f\"Gen {gen+1}: Best Fitness = {fitness(best)}\")\n",
    "\n",
    "# Show result\n",
    "best = max(population, key=fitness)\n",
    "x = int(\"\".join(str(g) for g in best), 2)\n",
    "print(\"\\nBest Chromosome:\", best)\n",
    "print(\"Best x =\", x)\n",
    "print(\"Max f(x) =\", x**2)\n"
   ]
  }
 ],
 "metadata": {
  "kernelspec": {
   "display_name": "Python 3",
   "language": "python",
   "name": "python3"
  },
  "language_info": {
   "codemirror_mode": {
    "name": "ipython",
    "version": 3
   },
   "file_extension": ".py",
   "mimetype": "text/x-python",
   "name": "python",
   "nbconvert_exporter": "python",
   "pygments_lexer": "ipython3",
   "version": "3.11.4"
  }
 },
 "nbformat": 4,
 "nbformat_minor": 5
}
